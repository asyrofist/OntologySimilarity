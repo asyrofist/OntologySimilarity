{
 "cells": [
  {
   "cell_type": "code",
   "execution_count": 44,
   "metadata": {},
   "outputs": [],
   "source": [
    "import json\n",
    "from pprint import pprint\n",
    "import pandas as pd\n",
    "import numpy as np\n",
    "from IPython.display import display, HTML, Image\n",
    "from bokeh.plotting import figure, output_file, show\n",
    "from bokeh.io import output_notebook\n",
    "from IPython.display import SVG\n",
    "from keras.models import Model, model_from_json, load_model\n",
    "from keras.layers import Input, Dense, LSTM, concatenate, Reshape\n",
    "from keras.utils.vis_utils import plot_model, model_to_dot\n",
    "from keras.utils import plot_model\n",
    "from keras.optimizers import Adam, SGD"
   ]
  },
  {
   "cell_type": "code",
   "execution_count": 55,
   "metadata": {},
   "outputs": [],
   "source": [
    "gold_fl_nm = \"/Users/jaydeep/jaydeep_workstation/ASU/Research/oaei/2018/KnowledgeGraphs/anatomy-dataset/ref_json.json\"\n",
    "with open(gold_fl_nm) as f:\n",
    "    gold_data = json.load(f)\n",
    "    \n",
    "gold_copy = {}\n",
    "for g in gold_data['@graph']:\n",
    "    gold_copy[g['entity']] = g['actual']"
   ]
  },
  {
   "cell_type": "code",
   "execution_count": 4,
   "metadata": {},
   "outputs": [],
   "source": [
    "model_nm = '/Users/jaydeep/jaydeep_workstation/ASU/Research/oaei/my_model.h5'\n",
    "model = load_model(model_nm)"
   ]
  },
  {
   "cell_type": "code",
   "execution_count": 11,
   "metadata": {},
   "outputs": [],
   "source": [
    "train_fl_nm = '/Users/jaydeep/jaydeep_workstation/ASU/Research/oaei/source_data.json'\n",
    "with open(train_fl_nm) as f:\n",
    "    train_data = json.load(f)\n",
    "    train_data_X = []\n",
    "    train_data_Y = []\n",
    "    for key in train_data.keys():\n",
    "        hierarchies = train_data[key]['hierarchy']\n",
    "        for hierarchy in hierarchies:\n",
    "            tmp = []\n",
    "            words = hierarchy.split('|')\n",
    "            for word in words:\n",
    "                if word in train_data:\n",
    "                    tmp.append(train_data[word]['vector'])\n",
    "            train_data_X.append(tmp)\n",
    "            train_data_Y.append(train_data[key]['vector'])"
   ]
  },
  {
   "cell_type": "code",
   "execution_count": 6,
   "metadata": {},
   "outputs": [],
   "source": [
    "test_fl_nm = '/Users/jaydeep/jaydeep_workstation/ASU/Research/oaei/target_data.json'\n",
    "with open(test_fl_nm) as f:\n",
    "    test_data = json.load(f)"
   ]
  },
  {
   "cell_type": "code",
   "execution_count": 7,
   "metadata": {},
   "outputs": [],
   "source": [
    "for key in test_data.keys():\n",
    "    hierarchies = test_data[key]['hierarchy']\n",
    "    for hierarchy in hierarchies:\n",
    "        test_data_X = []\n",
    "        tmp = []\n",
    "        words = hierarchy.split('|')\n",
    "        for word in words:\n",
    "            if word in test_data:\n",
    "                tmp.append(test_data[word]['vector'])\n",
    "#         test_data_X.append(tmp)\\\\n\\\",\\n\",\n",
    "        t_x = np.array(tmp)\n",
    "        t_x = t_x.reshape(1, t_x.shape[0], t_x.shape[1])\n",
    "        pred = model.predict(t_x);\n",
    "        test_data[key]['simConcept'] = pred.tolist()\n",
    "\n",
    "with open('target_data_output.json', 'w') as outfile:\n",
    "    json.dump(test_data, outfile, indent=1)"
   ]
  },
  {
   "cell_type": "code",
   "execution_count": 8,
   "metadata": {},
   "outputs": [],
   "source": [
    "def cosine(u, v):\n",
    "    return np.dot(u, v) / (np.linalg.norm(u) * np.linalg.norm(v))"
   ]
  },
  {
   "cell_type": "code",
   "execution_count": 58,
   "metadata": {},
   "outputs": [],
   "source": [
    "import sys\n",
    "test_op_fl_nm = '/Users/jaydeep/jaydeep_workstation/ASU/Research/oaei/target_data_output.json'\n",
    "with open(test_op_fl_nm) as f:\n",
    "    test_op_data = json.load(f)\n",
    "\n",
    "op_copy = {}\n",
    "    \n",
    "for test_key in test_op_data.keys():\n",
    "    cosine_val = 0\n",
    "    output = ''\n",
    "    pred_op = test_op_data[test_key]['simConcept']\n",
    "    for train_key in train_data.keys():\n",
    "        u = train_data[train_key]['vector']\n",
    "        v = pred_op[0]\n",
    "        cos_sim = cosine(u,v)\n",
    "        if(cos_sim>cosine_val):\n",
    "            cosine_val = cos_sim\n",
    "            key = test_key\n",
    "            val = train_key\n",
    "    op_copy[key] = val"
   ]
  },
  {
   "cell_type": "code",
   "execution_count": 59,
   "metadata": {},
   "outputs": [
    {
     "name": "stdout",
     "output_type": "stream",
     "text": [
      "0\n",
      "1497\n"
     ]
    }
   ],
   "source": [
    "tp = 0;\n",
    "fp = 0;\n",
    "for gold in gold_copy:\n",
    "    if(gold_copy[gold] == op_copy[gold]):\n",
    "        tp = tp + 1\n",
    "    else:\n",
    "        fp = fp + 1\n",
    "        \n",
    "pprint(tp)\n",
    "pprint(fp)"
   ]
  },
  {
   "cell_type": "code",
   "execution_count": null,
   "metadata": {},
   "outputs": [],
   "source": []
  }
 ],
 "metadata": {
  "kernelspec": {
   "display_name": "Python 3",
   "language": "python",
   "name": "python3"
  },
  "language_info": {
   "codemirror_mode": {
    "name": "ipython",
    "version": 3
   },
   "file_extension": ".py",
   "mimetype": "text/x-python",
   "name": "python",
   "nbconvert_exporter": "python",
   "pygments_lexer": "ipython3",
   "version": "3.6.5"
  }
 },
 "nbformat": 4,
 "nbformat_minor": 2
}
